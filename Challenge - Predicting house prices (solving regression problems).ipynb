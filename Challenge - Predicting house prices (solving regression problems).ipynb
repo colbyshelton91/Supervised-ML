{
 "cells": [
  {
   "cell_type": "markdown",
   "metadata": {},
   "source": [
    "# Predicting House Prices"
   ]
  },
  {
   "cell_type": "code",
   "execution_count": 2,
   "metadata": {},
   "outputs": [],
   "source": [
    "import matplotlib.pyplot as plt\n",
    "import seaborn as sns\n",
    "import numpy as np\n",
    "import pandas as pd\n",
    "import seaborn as sns\n",
    "import scipy.stats as stats\n",
    "from scipy.stats.mstats import winsorize\n",
    "from sqlalchemy import create_engine\n",
    "import warnings\n",
    "from sklearn import linear_model\n",
    "import statsmodels.api as sm\n",
    "\n",
    "warnings.filterwarnings('ignore')\n",
    "sns.set(style=\"whitegrid\")\n",
    "\n",
    "postgres_user = 'dsbc_student'\n",
    "postgres_pw = '7*.8G9QH21'\n",
    "postgres_host = '142.93.121.174'\n",
    "postgres_port = '5432'\n",
    "postgres_db = 'houseprices'\n",
    "\n",
    "engine = create_engine('postgresql://{}:{}@{}:{}/{}'.format(\n",
    "    postgres_user, postgres_pw, postgres_host, postgres_port, postgres_db))\n",
    "\n",
    "df = pd.read_sql_query('select * from houseprices',con=engine)\n",
    "\n",
    "# no need for an open connection, \n",
    "# as we're only doing a single query\n",
    "engine.dispose()"
   ]
  },
  {
   "cell_type": "code",
   "execution_count": 3,
   "metadata": {},
   "outputs": [
    {
     "data": {
      "text/html": [
       "<div>\n",
       "<style scoped>\n",
       "    .dataframe tbody tr th:only-of-type {\n",
       "        vertical-align: middle;\n",
       "    }\n",
       "\n",
       "    .dataframe tbody tr th {\n",
       "        vertical-align: top;\n",
       "    }\n",
       "\n",
       "    .dataframe thead th {\n",
       "        text-align: right;\n",
       "    }\n",
       "</style>\n",
       "<table border=\"1\" class=\"dataframe\">\n",
       "  <thead>\n",
       "    <tr style=\"text-align: right;\">\n",
       "      <th></th>\n",
       "      <th>id</th>\n",
       "      <th>mssubclass</th>\n",
       "      <th>mszoning</th>\n",
       "      <th>lotfrontage</th>\n",
       "      <th>lotarea</th>\n",
       "      <th>street</th>\n",
       "      <th>alley</th>\n",
       "      <th>lotshape</th>\n",
       "      <th>landcontour</th>\n",
       "      <th>utilities</th>\n",
       "      <th>...</th>\n",
       "      <th>poolarea</th>\n",
       "      <th>poolqc</th>\n",
       "      <th>fence</th>\n",
       "      <th>miscfeature</th>\n",
       "      <th>miscval</th>\n",
       "      <th>mosold</th>\n",
       "      <th>yrsold</th>\n",
       "      <th>saletype</th>\n",
       "      <th>salecondition</th>\n",
       "      <th>saleprice</th>\n",
       "    </tr>\n",
       "  </thead>\n",
       "  <tbody>\n",
       "    <tr>\n",
       "      <th>0</th>\n",
       "      <td>1</td>\n",
       "      <td>60</td>\n",
       "      <td>RL</td>\n",
       "      <td>65.0</td>\n",
       "      <td>8450</td>\n",
       "      <td>Pave</td>\n",
       "      <td>None</td>\n",
       "      <td>Reg</td>\n",
       "      <td>Lvl</td>\n",
       "      <td>AllPub</td>\n",
       "      <td>...</td>\n",
       "      <td>0</td>\n",
       "      <td>None</td>\n",
       "      <td>None</td>\n",
       "      <td>None</td>\n",
       "      <td>0</td>\n",
       "      <td>2</td>\n",
       "      <td>2008</td>\n",
       "      <td>WD</td>\n",
       "      <td>Normal</td>\n",
       "      <td>208500</td>\n",
       "    </tr>\n",
       "    <tr>\n",
       "      <th>1</th>\n",
       "      <td>2</td>\n",
       "      <td>20</td>\n",
       "      <td>RL</td>\n",
       "      <td>80.0</td>\n",
       "      <td>9600</td>\n",
       "      <td>Pave</td>\n",
       "      <td>None</td>\n",
       "      <td>Reg</td>\n",
       "      <td>Lvl</td>\n",
       "      <td>AllPub</td>\n",
       "      <td>...</td>\n",
       "      <td>0</td>\n",
       "      <td>None</td>\n",
       "      <td>None</td>\n",
       "      <td>None</td>\n",
       "      <td>0</td>\n",
       "      <td>5</td>\n",
       "      <td>2007</td>\n",
       "      <td>WD</td>\n",
       "      <td>Normal</td>\n",
       "      <td>181500</td>\n",
       "    </tr>\n",
       "    <tr>\n",
       "      <th>2</th>\n",
       "      <td>3</td>\n",
       "      <td>60</td>\n",
       "      <td>RL</td>\n",
       "      <td>68.0</td>\n",
       "      <td>11250</td>\n",
       "      <td>Pave</td>\n",
       "      <td>None</td>\n",
       "      <td>IR1</td>\n",
       "      <td>Lvl</td>\n",
       "      <td>AllPub</td>\n",
       "      <td>...</td>\n",
       "      <td>0</td>\n",
       "      <td>None</td>\n",
       "      <td>None</td>\n",
       "      <td>None</td>\n",
       "      <td>0</td>\n",
       "      <td>9</td>\n",
       "      <td>2008</td>\n",
       "      <td>WD</td>\n",
       "      <td>Normal</td>\n",
       "      <td>223500</td>\n",
       "    </tr>\n",
       "    <tr>\n",
       "      <th>3</th>\n",
       "      <td>4</td>\n",
       "      <td>70</td>\n",
       "      <td>RL</td>\n",
       "      <td>60.0</td>\n",
       "      <td>9550</td>\n",
       "      <td>Pave</td>\n",
       "      <td>None</td>\n",
       "      <td>IR1</td>\n",
       "      <td>Lvl</td>\n",
       "      <td>AllPub</td>\n",
       "      <td>...</td>\n",
       "      <td>0</td>\n",
       "      <td>None</td>\n",
       "      <td>None</td>\n",
       "      <td>None</td>\n",
       "      <td>0</td>\n",
       "      <td>2</td>\n",
       "      <td>2006</td>\n",
       "      <td>WD</td>\n",
       "      <td>Abnorml</td>\n",
       "      <td>140000</td>\n",
       "    </tr>\n",
       "    <tr>\n",
       "      <th>4</th>\n",
       "      <td>5</td>\n",
       "      <td>60</td>\n",
       "      <td>RL</td>\n",
       "      <td>84.0</td>\n",
       "      <td>14260</td>\n",
       "      <td>Pave</td>\n",
       "      <td>None</td>\n",
       "      <td>IR1</td>\n",
       "      <td>Lvl</td>\n",
       "      <td>AllPub</td>\n",
       "      <td>...</td>\n",
       "      <td>0</td>\n",
       "      <td>None</td>\n",
       "      <td>None</td>\n",
       "      <td>None</td>\n",
       "      <td>0</td>\n",
       "      <td>12</td>\n",
       "      <td>2008</td>\n",
       "      <td>WD</td>\n",
       "      <td>Normal</td>\n",
       "      <td>250000</td>\n",
       "    </tr>\n",
       "  </tbody>\n",
       "</table>\n",
       "<p>5 rows × 81 columns</p>\n",
       "</div>"
      ],
      "text/plain": [
       "   id  mssubclass mszoning  lotfrontage  lotarea street alley lotshape  \\\n",
       "0   1          60       RL         65.0     8450   Pave  None      Reg   \n",
       "1   2          20       RL         80.0     9600   Pave  None      Reg   \n",
       "2   3          60       RL         68.0    11250   Pave  None      IR1   \n",
       "3   4          70       RL         60.0     9550   Pave  None      IR1   \n",
       "4   5          60       RL         84.0    14260   Pave  None      IR1   \n",
       "\n",
       "  landcontour utilities  ... poolarea poolqc fence miscfeature miscval mosold  \\\n",
       "0         Lvl    AllPub  ...        0   None  None        None       0      2   \n",
       "1         Lvl    AllPub  ...        0   None  None        None       0      5   \n",
       "2         Lvl    AllPub  ...        0   None  None        None       0      9   \n",
       "3         Lvl    AllPub  ...        0   None  None        None       0      2   \n",
       "4         Lvl    AllPub  ...        0   None  None        None       0     12   \n",
       "\n",
       "  yrsold  saletype  salecondition  saleprice  \n",
       "0   2008        WD         Normal     208500  \n",
       "1   2007        WD         Normal     181500  \n",
       "2   2008        WD         Normal     223500  \n",
       "3   2006        WD        Abnorml     140000  \n",
       "4   2008        WD         Normal     250000  \n",
       "\n",
       "[5 rows x 81 columns]"
      ]
     },
     "execution_count": 3,
     "metadata": {},
     "output_type": "execute_result"
    }
   ],
   "source": [
    "df.head()"
   ]
  },
  {
   "cell_type": "code",
   "execution_count": 4,
   "metadata": {},
   "outputs": [
    {
     "name": "stdout",
     "output_type": "stream",
     "text": [
      "Size = 118260\n",
      "Shape =(1460, 81)\n",
      "Shape[0] x Shape[1] = 118260\n",
      "ndim of dataframe = 2\n",
      "ndim of series =1\n"
     ]
    }
   ],
   "source": [
    "# dataframe.size \n",
    "size = df.size \n",
    "  \n",
    "# dataframe.shape \n",
    "shape = df.shape \n",
    "  \n",
    "# dataframe.ndim \n",
    "df_ndim = df.ndim \n",
    "  \n",
    "# series.ndim \n",
    "series_ndim = df[\"saleprice\"].ndim \n",
    "  \n",
    "# printing size and shape \n",
    "print(\"Size = {}\\nShape ={}\\nShape[0] x Shape[1] = {}\". \n",
    "format(size, shape, shape[0]*shape[1])) \n",
    "  \n",
    "# printing ndim \n",
    "print(\"ndim of dataframe = {}\\nndim of series ={}\". \n",
    "format(df_ndim, series_ndim)) "
   ]
  },
  {
   "cell_type": "markdown",
   "metadata": {},
   "source": [
    "## Investigate the data, and do any necessary data cleaning."
   ]
  },
  {
   "cell_type": "code",
   "execution_count": 5,
   "metadata": {},
   "outputs": [
    {
     "data": {
      "text/html": [
       "<div>\n",
       "<style scoped>\n",
       "    .dataframe tbody tr th:only-of-type {\n",
       "        vertical-align: middle;\n",
       "    }\n",
       "\n",
       "    .dataframe tbody tr th {\n",
       "        vertical-align: top;\n",
       "    }\n",
       "\n",
       "    .dataframe thead th {\n",
       "        text-align: right;\n",
       "    }\n",
       "</style>\n",
       "<table border=\"1\" class=\"dataframe\">\n",
       "  <thead>\n",
       "    <tr style=\"text-align: right;\">\n",
       "      <th></th>\n",
       "      <th>id</th>\n",
       "      <th>mssubclass</th>\n",
       "      <th>mszoning</th>\n",
       "      <th>lotfrontage</th>\n",
       "      <th>lotarea</th>\n",
       "      <th>street</th>\n",
       "      <th>alley</th>\n",
       "      <th>lotshape</th>\n",
       "      <th>landcontour</th>\n",
       "      <th>utilities</th>\n",
       "      <th>...</th>\n",
       "      <th>poolarea</th>\n",
       "      <th>poolqc</th>\n",
       "      <th>fence</th>\n",
       "      <th>miscfeature</th>\n",
       "      <th>miscval</th>\n",
       "      <th>mosold</th>\n",
       "      <th>yrsold</th>\n",
       "      <th>saletype</th>\n",
       "      <th>salecondition</th>\n",
       "      <th>saleprice</th>\n",
       "    </tr>\n",
       "  </thead>\n",
       "  <tbody>\n",
       "    <tr>\n",
       "      <th>count</th>\n",
       "      <td>1460.000000</td>\n",
       "      <td>1460.000000</td>\n",
       "      <td>1460</td>\n",
       "      <td>1201.000000</td>\n",
       "      <td>1460.000000</td>\n",
       "      <td>1460</td>\n",
       "      <td>91</td>\n",
       "      <td>1460</td>\n",
       "      <td>1460</td>\n",
       "      <td>1460</td>\n",
       "      <td>...</td>\n",
       "      <td>1460.000000</td>\n",
       "      <td>7</td>\n",
       "      <td>281</td>\n",
       "      <td>54</td>\n",
       "      <td>1460.000000</td>\n",
       "      <td>1460.000000</td>\n",
       "      <td>1460.000000</td>\n",
       "      <td>1460</td>\n",
       "      <td>1460</td>\n",
       "      <td>1460.000000</td>\n",
       "    </tr>\n",
       "    <tr>\n",
       "      <th>unique</th>\n",
       "      <td>NaN</td>\n",
       "      <td>NaN</td>\n",
       "      <td>5</td>\n",
       "      <td>NaN</td>\n",
       "      <td>NaN</td>\n",
       "      <td>2</td>\n",
       "      <td>2</td>\n",
       "      <td>4</td>\n",
       "      <td>4</td>\n",
       "      <td>2</td>\n",
       "      <td>...</td>\n",
       "      <td>NaN</td>\n",
       "      <td>3</td>\n",
       "      <td>4</td>\n",
       "      <td>4</td>\n",
       "      <td>NaN</td>\n",
       "      <td>NaN</td>\n",
       "      <td>NaN</td>\n",
       "      <td>9</td>\n",
       "      <td>6</td>\n",
       "      <td>NaN</td>\n",
       "    </tr>\n",
       "    <tr>\n",
       "      <th>top</th>\n",
       "      <td>NaN</td>\n",
       "      <td>NaN</td>\n",
       "      <td>RL</td>\n",
       "      <td>NaN</td>\n",
       "      <td>NaN</td>\n",
       "      <td>Pave</td>\n",
       "      <td>Grvl</td>\n",
       "      <td>Reg</td>\n",
       "      <td>Lvl</td>\n",
       "      <td>AllPub</td>\n",
       "      <td>...</td>\n",
       "      <td>NaN</td>\n",
       "      <td>Gd</td>\n",
       "      <td>MnPrv</td>\n",
       "      <td>Shed</td>\n",
       "      <td>NaN</td>\n",
       "      <td>NaN</td>\n",
       "      <td>NaN</td>\n",
       "      <td>WD</td>\n",
       "      <td>Normal</td>\n",
       "      <td>NaN</td>\n",
       "    </tr>\n",
       "    <tr>\n",
       "      <th>freq</th>\n",
       "      <td>NaN</td>\n",
       "      <td>NaN</td>\n",
       "      <td>1151</td>\n",
       "      <td>NaN</td>\n",
       "      <td>NaN</td>\n",
       "      <td>1454</td>\n",
       "      <td>50</td>\n",
       "      <td>925</td>\n",
       "      <td>1311</td>\n",
       "      <td>1459</td>\n",
       "      <td>...</td>\n",
       "      <td>NaN</td>\n",
       "      <td>3</td>\n",
       "      <td>157</td>\n",
       "      <td>49</td>\n",
       "      <td>NaN</td>\n",
       "      <td>NaN</td>\n",
       "      <td>NaN</td>\n",
       "      <td>1267</td>\n",
       "      <td>1198</td>\n",
       "      <td>NaN</td>\n",
       "    </tr>\n",
       "    <tr>\n",
       "      <th>mean</th>\n",
       "      <td>730.500000</td>\n",
       "      <td>56.897260</td>\n",
       "      <td>NaN</td>\n",
       "      <td>70.049958</td>\n",
       "      <td>10516.828082</td>\n",
       "      <td>NaN</td>\n",
       "      <td>NaN</td>\n",
       "      <td>NaN</td>\n",
       "      <td>NaN</td>\n",
       "      <td>NaN</td>\n",
       "      <td>...</td>\n",
       "      <td>2.758904</td>\n",
       "      <td>NaN</td>\n",
       "      <td>NaN</td>\n",
       "      <td>NaN</td>\n",
       "      <td>43.489041</td>\n",
       "      <td>6.321918</td>\n",
       "      <td>2007.815753</td>\n",
       "      <td>NaN</td>\n",
       "      <td>NaN</td>\n",
       "      <td>180921.195890</td>\n",
       "    </tr>\n",
       "    <tr>\n",
       "      <th>std</th>\n",
       "      <td>421.610009</td>\n",
       "      <td>42.300571</td>\n",
       "      <td>NaN</td>\n",
       "      <td>24.284752</td>\n",
       "      <td>9981.264932</td>\n",
       "      <td>NaN</td>\n",
       "      <td>NaN</td>\n",
       "      <td>NaN</td>\n",
       "      <td>NaN</td>\n",
       "      <td>NaN</td>\n",
       "      <td>...</td>\n",
       "      <td>40.177307</td>\n",
       "      <td>NaN</td>\n",
       "      <td>NaN</td>\n",
       "      <td>NaN</td>\n",
       "      <td>496.123024</td>\n",
       "      <td>2.703626</td>\n",
       "      <td>1.328095</td>\n",
       "      <td>NaN</td>\n",
       "      <td>NaN</td>\n",
       "      <td>79442.502883</td>\n",
       "    </tr>\n",
       "    <tr>\n",
       "      <th>min</th>\n",
       "      <td>1.000000</td>\n",
       "      <td>20.000000</td>\n",
       "      <td>NaN</td>\n",
       "      <td>21.000000</td>\n",
       "      <td>1300.000000</td>\n",
       "      <td>NaN</td>\n",
       "      <td>NaN</td>\n",
       "      <td>NaN</td>\n",
       "      <td>NaN</td>\n",
       "      <td>NaN</td>\n",
       "      <td>...</td>\n",
       "      <td>0.000000</td>\n",
       "      <td>NaN</td>\n",
       "      <td>NaN</td>\n",
       "      <td>NaN</td>\n",
       "      <td>0.000000</td>\n",
       "      <td>1.000000</td>\n",
       "      <td>2006.000000</td>\n",
       "      <td>NaN</td>\n",
       "      <td>NaN</td>\n",
       "      <td>34900.000000</td>\n",
       "    </tr>\n",
       "    <tr>\n",
       "      <th>25%</th>\n",
       "      <td>365.750000</td>\n",
       "      <td>20.000000</td>\n",
       "      <td>NaN</td>\n",
       "      <td>59.000000</td>\n",
       "      <td>7553.500000</td>\n",
       "      <td>NaN</td>\n",
       "      <td>NaN</td>\n",
       "      <td>NaN</td>\n",
       "      <td>NaN</td>\n",
       "      <td>NaN</td>\n",
       "      <td>...</td>\n",
       "      <td>0.000000</td>\n",
       "      <td>NaN</td>\n",
       "      <td>NaN</td>\n",
       "      <td>NaN</td>\n",
       "      <td>0.000000</td>\n",
       "      <td>5.000000</td>\n",
       "      <td>2007.000000</td>\n",
       "      <td>NaN</td>\n",
       "      <td>NaN</td>\n",
       "      <td>129975.000000</td>\n",
       "    </tr>\n",
       "    <tr>\n",
       "      <th>50%</th>\n",
       "      <td>730.500000</td>\n",
       "      <td>50.000000</td>\n",
       "      <td>NaN</td>\n",
       "      <td>69.000000</td>\n",
       "      <td>9478.500000</td>\n",
       "      <td>NaN</td>\n",
       "      <td>NaN</td>\n",
       "      <td>NaN</td>\n",
       "      <td>NaN</td>\n",
       "      <td>NaN</td>\n",
       "      <td>...</td>\n",
       "      <td>0.000000</td>\n",
       "      <td>NaN</td>\n",
       "      <td>NaN</td>\n",
       "      <td>NaN</td>\n",
       "      <td>0.000000</td>\n",
       "      <td>6.000000</td>\n",
       "      <td>2008.000000</td>\n",
       "      <td>NaN</td>\n",
       "      <td>NaN</td>\n",
       "      <td>163000.000000</td>\n",
       "    </tr>\n",
       "    <tr>\n",
       "      <th>75%</th>\n",
       "      <td>1095.250000</td>\n",
       "      <td>70.000000</td>\n",
       "      <td>NaN</td>\n",
       "      <td>80.000000</td>\n",
       "      <td>11601.500000</td>\n",
       "      <td>NaN</td>\n",
       "      <td>NaN</td>\n",
       "      <td>NaN</td>\n",
       "      <td>NaN</td>\n",
       "      <td>NaN</td>\n",
       "      <td>...</td>\n",
       "      <td>0.000000</td>\n",
       "      <td>NaN</td>\n",
       "      <td>NaN</td>\n",
       "      <td>NaN</td>\n",
       "      <td>0.000000</td>\n",
       "      <td>8.000000</td>\n",
       "      <td>2009.000000</td>\n",
       "      <td>NaN</td>\n",
       "      <td>NaN</td>\n",
       "      <td>214000.000000</td>\n",
       "    </tr>\n",
       "    <tr>\n",
       "      <th>max</th>\n",
       "      <td>1460.000000</td>\n",
       "      <td>190.000000</td>\n",
       "      <td>NaN</td>\n",
       "      <td>313.000000</td>\n",
       "      <td>215245.000000</td>\n",
       "      <td>NaN</td>\n",
       "      <td>NaN</td>\n",
       "      <td>NaN</td>\n",
       "      <td>NaN</td>\n",
       "      <td>NaN</td>\n",
       "      <td>...</td>\n",
       "      <td>738.000000</td>\n",
       "      <td>NaN</td>\n",
       "      <td>NaN</td>\n",
       "      <td>NaN</td>\n",
       "      <td>15500.000000</td>\n",
       "      <td>12.000000</td>\n",
       "      <td>2010.000000</td>\n",
       "      <td>NaN</td>\n",
       "      <td>NaN</td>\n",
       "      <td>755000.000000</td>\n",
       "    </tr>\n",
       "  </tbody>\n",
       "</table>\n",
       "<p>11 rows × 81 columns</p>\n",
       "</div>"
      ],
      "text/plain": [
       "                 id   mssubclass mszoning  lotfrontage        lotarea street  \\\n",
       "count   1460.000000  1460.000000     1460  1201.000000    1460.000000   1460   \n",
       "unique          NaN          NaN        5          NaN            NaN      2   \n",
       "top             NaN          NaN       RL          NaN            NaN   Pave   \n",
       "freq            NaN          NaN     1151          NaN            NaN   1454   \n",
       "mean     730.500000    56.897260      NaN    70.049958   10516.828082    NaN   \n",
       "std      421.610009    42.300571      NaN    24.284752    9981.264932    NaN   \n",
       "min        1.000000    20.000000      NaN    21.000000    1300.000000    NaN   \n",
       "25%      365.750000    20.000000      NaN    59.000000    7553.500000    NaN   \n",
       "50%      730.500000    50.000000      NaN    69.000000    9478.500000    NaN   \n",
       "75%     1095.250000    70.000000      NaN    80.000000   11601.500000    NaN   \n",
       "max     1460.000000   190.000000      NaN   313.000000  215245.000000    NaN   \n",
       "\n",
       "       alley lotshape landcontour utilities  ...     poolarea poolqc  fence  \\\n",
       "count     91     1460        1460      1460  ...  1460.000000      7    281   \n",
       "unique     2        4           4         2  ...          NaN      3      4   \n",
       "top     Grvl      Reg         Lvl    AllPub  ...          NaN     Gd  MnPrv   \n",
       "freq      50      925        1311      1459  ...          NaN      3    157   \n",
       "mean     NaN      NaN         NaN       NaN  ...     2.758904    NaN    NaN   \n",
       "std      NaN      NaN         NaN       NaN  ...    40.177307    NaN    NaN   \n",
       "min      NaN      NaN         NaN       NaN  ...     0.000000    NaN    NaN   \n",
       "25%      NaN      NaN         NaN       NaN  ...     0.000000    NaN    NaN   \n",
       "50%      NaN      NaN         NaN       NaN  ...     0.000000    NaN    NaN   \n",
       "75%      NaN      NaN         NaN       NaN  ...     0.000000    NaN    NaN   \n",
       "max      NaN      NaN         NaN       NaN  ...   738.000000    NaN    NaN   \n",
       "\n",
       "       miscfeature       miscval       mosold       yrsold  saletype  \\\n",
       "count           54   1460.000000  1460.000000  1460.000000      1460   \n",
       "unique           4           NaN          NaN          NaN         9   \n",
       "top           Shed           NaN          NaN          NaN        WD   \n",
       "freq            49           NaN          NaN          NaN      1267   \n",
       "mean           NaN     43.489041     6.321918  2007.815753       NaN   \n",
       "std            NaN    496.123024     2.703626     1.328095       NaN   \n",
       "min            NaN      0.000000     1.000000  2006.000000       NaN   \n",
       "25%            NaN      0.000000     5.000000  2007.000000       NaN   \n",
       "50%            NaN      0.000000     6.000000  2008.000000       NaN   \n",
       "75%            NaN      0.000000     8.000000  2009.000000       NaN   \n",
       "max            NaN  15500.000000    12.000000  2010.000000       NaN   \n",
       "\n",
       "        salecondition      saleprice  \n",
       "count            1460    1460.000000  \n",
       "unique              6            NaN  \n",
       "top            Normal            NaN  \n",
       "freq             1198            NaN  \n",
       "mean              NaN  180921.195890  \n",
       "std               NaN   79442.502883  \n",
       "min               NaN   34900.000000  \n",
       "25%               NaN  129975.000000  \n",
       "50%               NaN  163000.000000  \n",
       "75%               NaN  214000.000000  \n",
       "max               NaN  755000.000000  \n",
       "\n",
       "[11 rows x 81 columns]"
      ]
     },
     "execution_count": 5,
     "metadata": {},
     "output_type": "execute_result"
    }
   ],
   "source": [
    "#df.info()\n",
    "df.describe(include='all')"
   ]
  },
  {
   "cell_type": "code",
   "execution_count": 6,
   "metadata": {},
   "outputs": [
    {
     "name": "stdout",
     "output_type": "stream",
     "text": [
      "Index(['mszoning', 'street', 'alley', 'lotshape', 'landcontour', 'utilities',\n",
      "       'lotconfig', 'landslope', 'neighborhood', 'condition1', 'condition2',\n",
      "       'bldgtype', 'housestyle', 'roofstyle', 'roofmatl', 'exterior1st',\n",
      "       'exterior2nd', 'masvnrtype', 'exterqual', 'extercond', 'foundation',\n",
      "       'bsmtqual', 'bsmtcond', 'bsmtexposure', 'bsmtfintype1', 'bsmtfintype2',\n",
      "       'heating', 'heatingqc', 'centralair', 'electrical', 'kitchenqual',\n",
      "       'functional', 'fireplacequ', 'garagetype', 'garagefinish', 'garagequal',\n",
      "       'garagecond', 'paveddrive', 'poolqc', 'fence', 'miscfeature',\n",
      "       'saletype', 'salecondition'],\n",
      "      dtype='object')\n",
      "The number of non-numerical columns is 43\n"
     ]
    }
   ],
   "source": [
    "# Discover Non-numeric variables\n",
    "\n",
    "non_numeric_columns = df.select_dtypes(['object']).columns\n",
    "print(non_numeric_columns)\n",
    "print(\"The number of non-numerical columns is {}\".format(len(non_numeric_columns)))"
   ]
  },
  {
   "cell_type": "code",
   "execution_count": 7,
   "metadata": {},
   "outputs": [
    {
     "name": "stdout",
     "output_type": "stream",
     "text": [
      "Index(['id', 'mssubclass', 'lotfrontage', 'lotarea', 'overallqual',\n",
      "       'overallcond', 'yearbuilt', 'yearremodadd', 'masvnrarea', 'bsmtfinsf1',\n",
      "       'bsmtfinsf2', 'bsmtunfsf', 'totalbsmtsf', 'firstflrsf', 'secondflrsf',\n",
      "       'lowqualfinsf', 'grlivarea', 'bsmtfullbath', 'bsmthalfbath', 'fullbath',\n",
      "       'halfbath', 'bedroomabvgr', 'kitchenabvgr', 'totrmsabvgrd',\n",
      "       'fireplaces', 'garageyrblt', 'garagecars', 'garagearea', 'wooddecksf',\n",
      "       'openporchsf', 'enclosedporch', 'threessnporch', 'screenporch',\n",
      "       'poolarea', 'miscval', 'mosold', 'yrsold', 'saleprice'],\n",
      "      dtype='object')\n",
      "The number of numerical columns is 38\n"
     ]
    }
   ],
   "source": [
    "# Discover Numeric variables\n",
    "\n",
    "numeric_columns = df.select_dtypes(['int64', 'float64']).columns\n",
    "print(numeric_columns)\n",
    "print(\"The number of numerical columns is {}\".format(len(numeric_columns)))"
   ]
  },
  {
   "cell_type": "markdown",
   "metadata": {},
   "source": [
    "## Is there missing data?"
   ]
  },
  {
   "cell_type": "code",
   "execution_count": 8,
   "metadata": {},
   "outputs": [
    {
     "data": {
      "text/html": [
       "<div>\n",
       "<style scoped>\n",
       "    .dataframe tbody tr th:only-of-type {\n",
       "        vertical-align: middle;\n",
       "    }\n",
       "\n",
       "    .dataframe tbody tr th {\n",
       "        vertical-align: top;\n",
       "    }\n",
       "\n",
       "    .dataframe thead th {\n",
       "        text-align: right;\n",
       "    }\n",
       "</style>\n",
       "<table border=\"1\" class=\"dataframe\">\n",
       "  <thead>\n",
       "    <tr style=\"text-align: right;\">\n",
       "      <th></th>\n",
       "      <th>Total</th>\n",
       "      <th>Percent</th>\n",
       "    </tr>\n",
       "  </thead>\n",
       "  <tbody>\n",
       "    <tr>\n",
       "      <th>poolqc</th>\n",
       "      <td>1453</td>\n",
       "      <td>0.995205</td>\n",
       "    </tr>\n",
       "    <tr>\n",
       "      <th>miscfeature</th>\n",
       "      <td>1406</td>\n",
       "      <td>0.963014</td>\n",
       "    </tr>\n",
       "    <tr>\n",
       "      <th>alley</th>\n",
       "      <td>1369</td>\n",
       "      <td>0.937671</td>\n",
       "    </tr>\n",
       "    <tr>\n",
       "      <th>fence</th>\n",
       "      <td>1179</td>\n",
       "      <td>0.807534</td>\n",
       "    </tr>\n",
       "    <tr>\n",
       "      <th>fireplacequ</th>\n",
       "      <td>690</td>\n",
       "      <td>0.472603</td>\n",
       "    </tr>\n",
       "    <tr>\n",
       "      <th>lotfrontage</th>\n",
       "      <td>259</td>\n",
       "      <td>0.177397</td>\n",
       "    </tr>\n",
       "    <tr>\n",
       "      <th>garagecond</th>\n",
       "      <td>81</td>\n",
       "      <td>0.055479</td>\n",
       "    </tr>\n",
       "    <tr>\n",
       "      <th>garagetype</th>\n",
       "      <td>81</td>\n",
       "      <td>0.055479</td>\n",
       "    </tr>\n",
       "    <tr>\n",
       "      <th>garageyrblt</th>\n",
       "      <td>81</td>\n",
       "      <td>0.055479</td>\n",
       "    </tr>\n",
       "    <tr>\n",
       "      <th>garagefinish</th>\n",
       "      <td>81</td>\n",
       "      <td>0.055479</td>\n",
       "    </tr>\n",
       "    <tr>\n",
       "      <th>garagequal</th>\n",
       "      <td>81</td>\n",
       "      <td>0.055479</td>\n",
       "    </tr>\n",
       "    <tr>\n",
       "      <th>bsmtexposure</th>\n",
       "      <td>38</td>\n",
       "      <td>0.026027</td>\n",
       "    </tr>\n",
       "    <tr>\n",
       "      <th>bsmtfintype2</th>\n",
       "      <td>38</td>\n",
       "      <td>0.026027</td>\n",
       "    </tr>\n",
       "    <tr>\n",
       "      <th>bsmtfintype1</th>\n",
       "      <td>37</td>\n",
       "      <td>0.025342</td>\n",
       "    </tr>\n",
       "    <tr>\n",
       "      <th>bsmtcond</th>\n",
       "      <td>37</td>\n",
       "      <td>0.025342</td>\n",
       "    </tr>\n",
       "    <tr>\n",
       "      <th>bsmtqual</th>\n",
       "      <td>37</td>\n",
       "      <td>0.025342</td>\n",
       "    </tr>\n",
       "    <tr>\n",
       "      <th>masvnrarea</th>\n",
       "      <td>8</td>\n",
       "      <td>0.005479</td>\n",
       "    </tr>\n",
       "    <tr>\n",
       "      <th>masvnrtype</th>\n",
       "      <td>8</td>\n",
       "      <td>0.005479</td>\n",
       "    </tr>\n",
       "    <tr>\n",
       "      <th>electrical</th>\n",
       "      <td>1</td>\n",
       "      <td>0.000685</td>\n",
       "    </tr>\n",
       "    <tr>\n",
       "      <th>utilities</th>\n",
       "      <td>0</td>\n",
       "      <td>0.000000</td>\n",
       "    </tr>\n",
       "  </tbody>\n",
       "</table>\n",
       "</div>"
      ],
      "text/plain": [
       "              Total   Percent\n",
       "poolqc         1453  0.995205\n",
       "miscfeature    1406  0.963014\n",
       "alley          1369  0.937671\n",
       "fence          1179  0.807534\n",
       "fireplacequ     690  0.472603\n",
       "lotfrontage     259  0.177397\n",
       "garagecond       81  0.055479\n",
       "garagetype       81  0.055479\n",
       "garageyrblt      81  0.055479\n",
       "garagefinish     81  0.055479\n",
       "garagequal       81  0.055479\n",
       "bsmtexposure     38  0.026027\n",
       "bsmtfintype2     38  0.026027\n",
       "bsmtfintype1     37  0.025342\n",
       "bsmtcond         37  0.025342\n",
       "bsmtqual         37  0.025342\n",
       "masvnrarea        8  0.005479\n",
       "masvnrtype        8  0.005479\n",
       "electrical        1  0.000685\n",
       "utilities         0  0.000000"
      ]
     },
     "execution_count": 8,
     "metadata": {},
     "output_type": "execute_result"
    }
   ],
   "source": [
    "total_missing = df.isnull().sum().sort_values(ascending=False)\n",
    "percent_missing = (df.isnull().sum()/df.isnull().count()).sort_values(ascending=False)\n",
    "missing_data = pd.concat([total_missing, percent_missing], axis=1, keys=['Total', 'Percent'])\n",
    "missing_data.head(20)"
   ]
  },
  {
   "cell_type": "markdown",
   "metadata": {},
   "source": [
    "I didn't do any data cleaning due to the fact that the variables I wanted to use weren't NULL or missing.\n",
    "\n",
    "If I wanted to clean the data, I would've used interpolation.\n",
    "\n",
    "And to help with outliers, I would use winsorization."
   ]
  },
  {
   "cell_type": "markdown",
   "metadata": {},
   "source": [
    "## Explore the data and find some variables that  would be useful in predicting house prices."
   ]
  },
  {
   "cell_type": "code",
   "execution_count": 9,
   "metadata": {},
   "outputs": [
    {
     "data": {
      "image/png": "[encoded data removed]",
      "text/plain": [
       "<Figure size 432x288 with 1 Axes>"
      ]
     },
     "metadata": {
      "needs_background": "light"
     },
     "output_type": "display_data"
    }
   ],
   "source": [
    "plt.hist(df.saleprice)\n",
    "plt.title(\"The distribution of saleprice\")\n",
    "plt.xlabel(\"saleprice\")\n",
    "plt.ylabel(\"number of occurrence\")\n",
    "plt.show()"
   ]
  },
  {
   "cell_type": "code",
   "execution_count": 10,
   "metadata": {},
   "outputs": [
    {
     "data": {
      "text/plain": [
       "saleprice        1.000000\n",
       "overallqual      0.790982\n",
       "grlivarea        0.708624\n",
       "garagecars       0.640409\n",
       "garagearea       0.623431\n",
       "totalbsmtsf      0.613581\n",
       "firstflrsf       0.605852\n",
       "fullbath         0.560664\n",
       "totrmsabvgrd     0.533723\n",
       "yearbuilt        0.522897\n",
       "yearremodadd     0.507101\n",
       "garageyrblt      0.486362\n",
       "masvnrarea       0.477493\n",
       "fireplaces       0.466929\n",
       "bsmtfinsf1       0.386420\n",
       "lotfrontage      0.351799\n",
       "wooddecksf       0.324413\n",
       "secondflrsf      0.319334\n",
       "openporchsf      0.315856\n",
       "halfbath         0.284108\n",
       "lotarea          0.263843\n",
       "bsmtfullbath     0.227122\n",
       "bsmtunfsf        0.214479\n",
       "bedroomabvgr     0.168213\n",
       "kitchenabvgr     0.135907\n",
       "enclosedporch    0.128578\n",
       "screenporch      0.111447\n",
       "poolarea         0.092404\n",
       "mssubclass       0.084284\n",
       "overallcond      0.077856\n",
       "mosold           0.046432\n",
       "threessnporch    0.044584\n",
       "yrsold           0.028923\n",
       "lowqualfinsf     0.025606\n",
       "miscval          0.021190\n",
       "bsmthalfbath     0.016844\n",
       "bsmtfinsf2       0.011378\n",
       "Name: saleprice, dtype: float64"
      ]
     },
     "execution_count": 10,
     "metadata": {},
     "output_type": "execute_result"
    }
   ],
   "source": [
    "np.abs(df[numeric_columns].iloc[:,1:].corr().loc[:,\"saleprice\"]).sort_values(ascending=False)"
   ]
  },
  {
   "cell_type": "markdown",
   "metadata": {},
   "source": [
    "## 5 most corrilated variable:\n",
    "\n",
    "    overallqual      \n",
    "    grlivarea        \n",
    "    garagecars       \n",
    "    garagearea       \n",
    "    totalbsmtsf"
   ]
  },
  {
   "cell_type": "markdown",
   "metadata": {},
   "source": [
    "## Building initial model using features"
   ]
  },
  {
   "cell_type": "code",
   "execution_count": 13,
   "metadata": {},
   "outputs": [],
   "source": [
    "X = df[['overallqual', 'grlivarea', 'garagecars', 'garagearea', 'totalbsmtsf']]\n",
    "Y = df.saleprice"
   ]
  },
  {
   "cell_type": "code",
   "execution_count": 14,
   "metadata": {},
   "outputs": [
    {
     "name": "stdout",
     "output_type": "stream",
     "text": [
      "\n",
      "Coefficients: \n",
      " [2.36350074e+04 4.53458230e+01 1.45443154e+04 1.71333928e+01\n",
      " 3.15014753e+01]\n",
      "\n",
      "Intercept: \n",
      " -99072.05038623835\n"
     ]
    }
   ],
   "source": [
    "lrm = linear_model.LinearRegression()\n",
    "\n",
    "# fit method estimates the coefficients using OLS\n",
    "lrm.fit(X, Y)\n",
    "\n",
    "# Inspect the results.\n",
    "print('\\nCoefficients: \\n', lrm.coef_)\n",
    "print('\\nIntercept: \\n', lrm.intercept_)"
   ]
  },
  {
   "cell_type": "code",
   "execution_count": 15,
   "metadata": {},
   "outputs": [
    {
     "name": "stdout",
     "output_type": "stream",
     "text": [
      "                            OLS Regression Results                            \n",
      "==============================================================================\n",
      "Dep. Variable:              saleprice   R-squared:                       0.761\n",
      "Model:                            OLS   Adj. R-squared:                  0.760\n",
      "Method:                 Least Squares   F-statistic:                     926.5\n",
      "Date:                Sat, 17 Aug 2019   Prob (F-statistic):               0.00\n",
      "Time:                        15:29:59   Log-Likelihood:                -17499.\n",
      "No. Observations:                1460   AIC:                         3.501e+04\n",
      "Df Residuals:                    1454   BIC:                         3.504e+04\n",
      "Df Model:                           5                                         \n",
      "Covariance Type:            nonrobust                                         \n",
      "===============================================================================\n",
      "                  coef    std err          t      P>|t|      [0.025      0.975]\n",
      "-------------------------------------------------------------------------------\n",
      "const       -9.907e+04   4638.450    -21.359      0.000   -1.08e+05      -9e+04\n",
      "overallqual  2.364e+04   1072.532     22.037      0.000    2.15e+04    2.57e+04\n",
      "grlivarea      45.3458      2.489     18.218      0.000      40.463      50.228\n",
      "garagecars   1.454e+04   3022.681      4.812      0.000    8615.034    2.05e+04\n",
      "garagearea     17.1334     10.468      1.637      0.102      -3.401      37.668\n",
      "totalbsmtsf    31.5015      2.904     10.848      0.000      25.805      37.198\n",
      "==============================================================================\n",
      "Omnibus:                      438.146   Durbin-Watson:                   1.971\n",
      "Prob(Omnibus):                  0.000   Jarque-Bera (JB):            40648.199\n",
      "Skew:                          -0.338   Prob(JB):                         0.00\n",
      "Kurtosis:                      28.841   Cond. No.                     9.23e+03\n",
      "==============================================================================\n",
      "\n",
      "Warnings:\n",
      "[1] Standard Errors assume that the covariance matrix of the errors is correctly specified.\n",
      "[2] The condition number is large, 9.23e+03. This might indicate that there are\n",
      "strong multicollinearity or other numerical problems.\n"
     ]
    }
   ],
   "source": [
    "X2 = sm.add_constant(X)\n",
    "\n",
    "results = sm.OLS(Y, X2).fit()\n",
    "\n",
    "print(results.summary())"
   ]
  },
  {
   "cell_type": "markdown",
   "metadata": {},
   "source": [
    "### The goodness of fit of model using F-test, R-squared, adjusted R-squared, AIC and BIC.\n",
    "    \n",
    "    F-test: 926.5\n",
    "    r2: 0.761\n",
    "    adj r2: 0.760\n",
    "    AIC: 3.501e+04\n",
    "    BIC: 3.504e+04"
   ]
  },
  {
   "cell_type": "markdown",
   "metadata": {},
   "source": [
    "# Making predictions"
   ]
  },
  {
   "cell_type": "markdown",
   "metadata": {},
   "source": [
    "### Split data into train and test sets."
   ]
  },
  {
   "cell_type": "code",
   "execution_count": 16,
   "metadata": {},
   "outputs": [
    {
     "name": "stdout",
     "output_type": "stream",
     "text": [
      "The number of observations in training set is 1168\n",
      "The number of observations in test set is 292\n"
     ]
    }
   ],
   "source": [
    "from sklearn.model_selection import train_test_split\n",
    "\n",
    "X_train, X_test, y_train, y_test = train_test_split(X, Y, test_size = 0.2, random_state = 465)\n",
    "\n",
    "print(\"The number of observations in training set is {}\".format(X_train.shape[0]))\n",
    "print(\"The number of observations in test set is {}\".format(X_test.shape[0]))"
   ]
  },
  {
   "cell_type": "markdown",
   "metadata": {},
   "source": [
    "### Estimate your model from the previous checkpoint in the train set. Assess the goodness of fit of your model."
   ]
  },
  {
   "cell_type": "code",
   "execution_count": 22,
   "metadata": {},
   "outputs": [
    {
     "name": "stdout",
     "output_type": "stream",
     "text": [
      "                            OLS Regression Results                            \n",
      "==============================================================================\n",
      "Dep. Variable:              saleprice   R-squared:                       0.759\n",
      "Model:                            OLS   Adj. R-squared:                  0.758\n",
      "Method:                 Least Squares   F-statistic:                     731.8\n",
      "Date:                Sat, 17 Aug 2019   Prob (F-statistic):               0.00\n",
      "Time:                        15:35:43   Log-Likelihood:                -13995.\n",
      "No. Observations:                1168   AIC:                         2.800e+04\n",
      "Df Residuals:                    1162   BIC:                         2.803e+04\n",
      "Df Model:                           5                                         \n",
      "Covariance Type:            nonrobust                                         \n",
      "===============================================================================\n",
      "                  coef    std err          t      P>|t|      [0.025      0.975]\n",
      "-------------------------------------------------------------------------------\n",
      "const       -9.889e+04   5212.322    -18.972      0.000   -1.09e+05   -8.87e+04\n",
      "overallqual  2.456e+04   1222.631     20.090      0.000    2.22e+04     2.7e+04\n",
      "grlivarea      42.8624      2.764     15.505      0.000      37.439      48.286\n",
      "garagecars   1.542e+04   3451.823      4.467      0.000    8647.779    2.22e+04\n",
      "garagearea     18.3809     11.653      1.577      0.115      -4.482      41.244\n",
      "totalbsmtsf    27.2085      3.154      8.628      0.000      21.021      33.396\n",
      "==============================================================================\n",
      "Omnibus:                      392.514   Durbin-Watson:                   1.857\n",
      "Prob(Omnibus):                  0.000   Jarque-Bera (JB):            30447.614\n",
      "Skew:                          -0.613   Prob(JB):                         0.00\n",
      "Kurtosis:                      27.983   Cond. No.                     9.35e+03\n",
      "==============================================================================\n",
      "\n",
      "Warnings:\n",
      "[1] Standard Errors assume that the covariance matrix of the errors is correctly specified.\n",
      "[2] The condition number is large, 9.35e+03. This might indicate that there are\n",
      "strong multicollinearity or other numerical problems.\n"
     ]
    }
   ],
   "source": [
    "# Add constant to the model.\n",
    "X_train = sm.add_constant(X_train)\n",
    "\n",
    "# Fit an OLS model using statsmodels\n",
    "results = sm.OLS(y_train, X_train).fit()\n",
    "\n",
    "# Print the summary results\n",
    "print(results.summary())"
   ]
  },
  {
   "cell_type": "markdown",
   "metadata": {},
   "source": [
    "## The goodness of fit of training model using F-test, R-squared, adjusted R-squared, AIC and BIC.\n",
    "\n",
    "    F-test: 731.8\n",
    "    r2: 0.759\n",
    "    adj r2: 0.758\n",
    "    AIC: 2.800e+04\n",
    "    BIC: 2.803e+04"
   ]
  },
  {
   "cell_type": "markdown",
   "metadata": {},
   "source": [
    "# Predict the house prices in the test set, and evaluate the performance of model."
   ]
  },
  {
   "cell_type": "code",
   "execution_count": 18,
   "metadata": {},
   "outputs": [
    {
     "data": {
      "image/png": "[encoded data removed]",
      "text/plain": [
       "<Figure size 432x288 with 1 Axes>"
      ]
     },
     "metadata": {
      "needs_background": "light"
     },
     "output_type": "display_data"
    },
    {
     "name": "stdout",
     "output_type": "stream",
     "text": [
      "Mean absolute error of the prediction is: 25964.899373831136\n",
      "Mean squared error of the prediction is: 1573437538.2927485\n",
      "Root mean squared error of the prediction is: 39666.57961423884\n",
      "Mean absolute percentage error of the prediction is: 16.09717844469947\n"
     ]
    }
   ],
   "source": [
    "from sklearn.metrics import mean_absolute_error\n",
    "import statsmodels.api as sm\n",
    "from statsmodels.tools.eval_measures import mse, rmse\n",
    "\n",
    "# Add constant to the model\n",
    "X_test = sm.add_constant(X_test)\n",
    "\n",
    "# making predictions here\n",
    "y_preds = results.predict(X_test)\n",
    "\n",
    "plt.scatter(y_test, y_preds)\n",
    "plt.plot(y_test, y_test, color=\"red\")\n",
    "plt.xlabel(\"true values\")\n",
    "plt.ylabel(\"predicted values\")\n",
    "plt.title(\"Charges: true and predicted values\")\n",
    "plt.show()\n",
    "\n",
    "print(\"Mean absolute error of the prediction is: {}\".format(mean_absolute_error(y_test, y_preds)))\n",
    "print(\"Mean squared error of the prediction is: {}\".format(mse(y_test, y_preds)))\n",
    "print(\"Root mean squared error of the prediction is: {}\".format(rmse(y_test, y_preds)))\n",
    "print(\"Mean absolute percentage error of the prediction is: {}\".format(np.mean(np.abs((y_test - y_preds) / y_test)) * 100))\n",
    "\n"
   ]
  },
  {
   "cell_type": "markdown",
   "metadata": {},
   "source": [
    "## Evaluate model on test set."
   ]
  },
  {
   "cell_type": "code",
   "execution_count": 24,
   "metadata": {},
   "outputs": [
    {
     "name": "stdout",
     "output_type": "stream",
     "text": [
      "                            OLS Regression Results                            \n",
      "==============================================================================\n",
      "Dep. Variable:              saleprice   R-squared:                       0.787\n",
      "Model:                            OLS   Adj. R-squared:                  0.783\n",
      "Method:                 Least Squares   F-statistic:                     211.3\n",
      "Date:                Sat, 17 Aug 2019   Prob (F-statistic):           8.55e-94\n",
      "Time:                        15:36:19   Log-Likelihood:                -3492.2\n",
      "No. Observations:                 292   AIC:                             6996.\n",
      "Df Residuals:                     286   BIC:                             7018.\n",
      "Df Model:                           5                                         \n",
      "Covariance Type:            nonrobust                                         \n",
      "===============================================================================\n",
      "                  coef    std err          t      P>|t|      [0.025      0.975]\n",
      "-------------------------------------------------------------------------------\n",
      "const       -1.014e+05   9974.287    -10.163      0.000   -1.21e+05   -8.17e+04\n",
      "overallqual  1.876e+04   2243.962      8.360      0.000    1.43e+04    2.32e+04\n",
      "grlivarea      57.6583      5.590     10.315      0.000      46.656      68.661\n",
      "garagecars   7718.7610   6245.180      1.236      0.217   -4573.585       2e+04\n",
      "garagearea     16.4467     23.698      0.694      0.488     -30.197      63.090\n",
      "totalbsmtsf    58.0394      7.301      7.949      0.000      43.668      72.411\n",
      "==============================================================================\n",
      "Omnibus:                      125.637   Durbin-Watson:                   2.229\n",
      "Prob(Omnibus):                  0.000   Jarque-Bera (JB):             1110.241\n",
      "Skew:                           1.506   Prob(JB):                    8.21e-242\n",
      "Kurtosis:                      12.066   Cond. No.                     8.92e+03\n",
      "==============================================================================\n",
      "\n",
      "Warnings:\n",
      "[1] Standard Errors assume that the covariance matrix of the errors is correctly specified.\n",
      "[2] The condition number is large, 8.92e+03. This might indicate that there are\n",
      "strong multicollinearity or other numerical problems.\n"
     ]
    }
   ],
   "source": [
    "# Add constant to the model\n",
    "X_test = sm.add_constant(X_test)\n",
    "\n",
    "# We fit an OLS model using statsmodels\n",
    "results = sm.OLS(y_test, X_test).fit()\n",
    "\n",
    "# Print the summary results\n",
    "print(results.summary())"
   ]
  },
  {
   "cell_type": "markdown",
   "metadata": {},
   "source": [
    "## The goodness of fit of test model using F-test, R-squared, adjusted R-squared, AIC and BIC.\n",
    "\n",
    "    F-test: 731.8\n",
    "    r2: 0.759\n",
    "    adj r2: 0.758\n",
    "    AIC: 2.800e+04\n",
    "    BIC: 2.803e+04"
   ]
  },
  {
   "cell_type": "markdown",
   "metadata": {},
   "source": [
    "# Test for overfitting and regularization"
   ]
  },
  {
   "cell_type": "markdown",
   "metadata": {},
   "source": [
    "#### Lasso regression model"
   ]
  },
  {
   "cell_type": "code",
   "execution_count": 20,
   "metadata": {},
   "outputs": [
    {
     "name": "stdout",
     "output_type": "stream",
     "text": [
      "R-squared of the model on the training set is: 0.7589588829327486\n",
      "-----Test set statistics-----\n",
      "R-squared of the model on the test set is: 0.7656403852951144\n",
      "Mean absolute error of the prediction is: 25964.44279998342\n",
      "Mean squared error of the prediction is: 1573421101.2142653\n",
      "Root mean squared error of the prediction is: 39666.372423178116\n",
      "Mean absolute percentage error of the prediction is: 16.096837487839178\n"
     ]
    }
   ],
   "source": [
    "from sklearn.linear_model import Lasso\n",
    "\n",
    "lassoregr = Lasso() \n",
    "lassoregr.fit(X_train, y_train)\n",
    "\n",
    "# We are making predictions here\n",
    "y_preds_train = lassoregr.predict(X_train)\n",
    "y_preds_test = lassoregr.predict(X_test)\n",
    "\n",
    "print(\"R-squared of the model on the training set is: {}\".format(lassoregr.score(X_train, y_train)))\n",
    "print(\"-----Test set statistics-----\")\n",
    "print(\"R-squared of the model on the test set is: {}\".format(lassoregr.score(X_test, y_test)))\n",
    "print(\"Mean absolute error of the prediction is: {}\".format(mean_absolute_error(y_test, y_preds_test)))\n",
    "print(\"Mean squared error of the prediction is: {}\".format(mse(y_test, y_preds_test)))\n",
    "print(\"Root mean squared error of the prediction is: {}\".format(rmse(y_test, y_preds_test)))\n",
    "print(\"Mean absolute percentage error of the prediction is: {}\".format(np.mean(np.abs((y_test - y_preds_test) / y_test)) * 100))\n"
   ]
  },
  {
   "cell_type": "markdown",
   "metadata": {},
   "source": [
    "# Extra-dataset facts to consider\n",
    "\n",
    "The dataset here includes homes sold bewtween the years of 2006 and 2010.\n",
    "\n",
    "There was a housing market crash the peaked (crashed and burned) in December 2008.\n",
    "\n",
    "Let's look a little into the dataset minus homes sold in 2009 and see if we can better predict without."
   ]
  },
  {
   "cell_type": "code",
   "execution_count": 40,
   "metadata": {},
   "outputs": [],
   "source": [
    "df2 = df[df['yrsold'] != 2009]"
   ]
  },
  {
   "cell_type": "code",
   "execution_count": 50,
   "metadata": {},
   "outputs": [
    {
     "data": {
      "image/png": "[encoded data removed]",
      "text/plain": [
       "<Figure size 432x288 with 1 Axes>"
      ]
     },
     "metadata": {
      "needs_background": "light"
     },
     "output_type": "display_data"
    }
   ],
   "source": [
    "plt.hist(df.saleprice, alpha=0.5, bins=40)\n",
    "plt.hist(df2.saleprice, alpha=0.5, bins=40)\n",
    "plt.title(\"The distribution of saleprice\")\n",
    "plt.legend([\"saleprice\", \"saleprice - 2009\"])\n",
    "plt.xlabel(\"saleprice\")\n",
    "plt.ylabel(\"number of occurrence\")\n",
    "plt.show()"
   ]
  },
  {
   "cell_type": "code",
   "execution_count": 51,
   "metadata": {},
   "outputs": [],
   "source": [
    "X7 = df2[['overallqual', 'grlivarea', 'garagecars', 'garagearea', 'totalbsmtsf']]\n",
    "Y7 = df2.saleprice"
   ]
  },
  {
   "cell_type": "code",
   "execution_count": 52,
   "metadata": {},
   "outputs": [
    {
     "name": "stdout",
     "output_type": "stream",
     "text": [
      "                            OLS Regression Results                            \n",
      "==============================================================================\n",
      "Dep. Variable:              saleprice   R-squared:                       0.751\n",
      "Model:                            OLS   Adj. R-squared:                  0.750\n",
      "Method:                 Least Squares   F-statistic:                     672.3\n",
      "Date:                Sat, 17 Aug 2019   Prob (F-statistic):               0.00\n",
      "Time:                        16:07:17   Log-Likelihood:                -13466.\n",
      "No. Observations:                1122   AIC:                         2.694e+04\n",
      "Df Residuals:                    1116   BIC:                         2.697e+04\n",
      "Df Model:                           5                                         \n",
      "Covariance Type:            nonrobust                                         \n",
      "===============================================================================\n",
      "                  coef    std err          t      P>|t|      [0.025      0.975]\n",
      "-------------------------------------------------------------------------------\n",
      "const       -9.682e+04   5513.620    -17.560      0.000   -1.08e+05    -8.6e+04\n",
      "overallqual  2.345e+04   1269.081     18.474      0.000     2.1e+04    2.59e+04\n",
      "grlivarea      45.0108      2.831     15.902      0.000      39.457      50.565\n",
      "garagecars   1.803e+04   3525.914      5.113      0.000    1.11e+04    2.49e+04\n",
      "garagearea      6.9146     12.311      0.562      0.574     -17.240      31.069\n",
      "totalbsmtsf    29.8990      3.385      8.834      0.000      23.258      36.540\n",
      "==============================================================================\n",
      "Omnibus:                      360.939   Durbin-Watson:                   1.951\n",
      "Prob(Omnibus):                  0.000   Jarque-Bera (JB):            35243.713\n",
      "Skew:                          -0.435   Prob(JB):                         0.00\n",
      "Kurtosis:                      30.443   Cond. No.                     9.51e+03\n",
      "==============================================================================\n",
      "\n",
      "Warnings:\n",
      "[1] Standard Errors assume that the covariance matrix of the errors is correctly specified.\n",
      "[2] The condition number is large, 9.51e+03. This might indicate that there are\n",
      "strong multicollinearity or other numerical problems.\n"
     ]
    }
   ],
   "source": [
    "X7 = sm.add_constant(X7)\n",
    "\n",
    "results = sm.OLS(Y7, X7).fit()\n",
    "\n",
    "print(results.summary())"
   ]
  },
  {
   "cell_type": "markdown",
   "metadata": {},
   "source": [
    "## The new goodness of fit of model using F-test, R-squared, adjusted R-squared, AIC and BIC.\n",
    "    F-test: 672.3\n",
    "    r2: 0.751\n",
    "    adj r2: 0.750\n",
    "    AIC: 2.694e+04\n",
    "    BIC: 2.697e+04"
   ]
  },
  {
   "cell_type": "markdown",
   "metadata": {},
   "source": [
    "## Making predicitions"
   ]
  },
  {
   "cell_type": "code",
   "execution_count": 53,
   "metadata": {},
   "outputs": [
    {
     "name": "stdout",
     "output_type": "stream",
     "text": [
      "The number of observations in training set is 897\n",
      "The number of observations in test set is 225\n"
     ]
    }
   ],
   "source": [
    "X_train2, X_test2, y_train2, y_test2 = train_test_split(X7, Y7, test_size = 0.2, random_state = 465)\n",
    "\n",
    "print(\"The number of observations in training set is {}\".format(X_train2.shape[0]))\n",
    "print(\"The number of observations in test set is {}\".format(X_test2.shape[0]))"
   ]
  },
  {
   "cell_type": "markdown",
   "metadata": {},
   "source": [
    "## Estimate your model from the previous checkpoint in the train set. Assess the goodness of fit of your model."
   ]
  },
  {
   "cell_type": "code",
   "execution_count": 54,
   "metadata": {},
   "outputs": [
    {
     "name": "stdout",
     "output_type": "stream",
     "text": [
      "                            OLS Regression Results                            \n",
      "==============================================================================\n",
      "Dep. Variable:              saleprice   R-squared:                       0.739\n",
      "Model:                            OLS   Adj. R-squared:                  0.738\n",
      "Method:                 Least Squares   F-statistic:                     505.0\n",
      "Date:                Sat, 17 Aug 2019   Prob (F-statistic):          4.38e-257\n",
      "Time:                        16:10:44   Log-Likelihood:                -10762.\n",
      "No. Observations:                 897   AIC:                         2.154e+04\n",
      "Df Residuals:                     891   BIC:                         2.157e+04\n",
      "Df Model:                           5                                         \n",
      "Covariance Type:            nonrobust                                         \n",
      "===============================================================================\n",
      "                  coef    std err          t      P>|t|      [0.025      0.975]\n",
      "-------------------------------------------------------------------------------\n",
      "const       -9.035e+04   6137.106    -14.722      0.000   -1.02e+05   -7.83e+04\n",
      "overallqual  2.391e+04   1422.719     16.803      0.000    2.11e+04    2.67e+04\n",
      "grlivarea      41.0668      3.167     12.969      0.000      34.852      47.282\n",
      "garagecars   1.929e+04   4034.900      4.780      0.000    1.14e+04    2.72e+04\n",
      "garagearea      2.1500     14.054      0.153      0.878     -25.432      29.732\n",
      "totalbsmtsf    26.3100      3.799      6.926      0.000      18.854      33.766\n",
      "==============================================================================\n",
      "Omnibus:                      276.579   Durbin-Watson:                   1.966\n",
      "Prob(Omnibus):                  0.000   Jarque-Bera (JB):            29439.295\n",
      "Skew:                          -0.234   Prob(JB):                         0.00\n",
      "Kurtosis:                      31.062   Cond. No.                     9.44e+03\n",
      "==============================================================================\n",
      "\n",
      "Warnings:\n",
      "[1] Standard Errors assume that the covariance matrix of the errors is correctly specified.\n",
      "[2] The condition number is large, 9.44e+03. This might indicate that there are\n",
      "strong multicollinearity or other numerical problems.\n"
     ]
    }
   ],
   "source": [
    "# Add constant to the model.\n",
    "X_train2 = sm.add_constant(X_train2)\n",
    "\n",
    "# Fit an OLS model using statsmodels\n",
    "results = sm.OLS(y_train2, X_train2).fit()\n",
    "\n",
    "# Print the summary results\n",
    "print(results.summary())"
   ]
  },
  {
   "cell_type": "code",
   "execution_count": 55,
   "metadata": {},
   "outputs": [
    {
     "data": {
      "image/png": "[encoded data removed]",
      "text/plain": [
       "<Figure size 432x288 with 1 Axes>"
      ]
     },
     "metadata": {
      "needs_background": "light"
     },
     "output_type": "display_data"
    },
    {
     "name": "stdout",
     "output_type": "stream",
     "text": [
      "Mean absolute error of the prediction is: 27306.588935193973\n",
      "Mean squared error of the prediction is: 1640222087.8746576\n",
      "Root mean squared error of the prediction is: 40499.65540439397\n",
      "Mean absolute percentage error of the prediction is: 15.405722591261128\n"
     ]
    }
   ],
   "source": [
    "# Add constant to the model\n",
    "X_test2 = sm.add_constant(X_test2)\n",
    "\n",
    "# making predictions here\n",
    "y_preds2 = results.predict(X_test2)\n",
    "\n",
    "plt.scatter(y_test2, y_preds2)\n",
    "plt.plot(y_test2, y_test2, color=\"red\")\n",
    "plt.xlabel(\"true values\")\n",
    "plt.ylabel(\"predicted values\")\n",
    "plt.title(\"Charges: true and predicted values\")\n",
    "plt.show()\n",
    "\n",
    "print(\"Mean absolute error of the prediction is: {}\".format(mean_absolute_error(y_test2, y_preds2)))\n",
    "print(\"Mean squared error of the prediction is: {}\".format(mse(y_test2, y_preds2)))\n",
    "print(\"Root mean squared error of the prediction is: {}\".format(rmse(y_test2, y_preds2)))\n",
    "print(\"Mean absolute percentage error of the prediction is: {}\".format(np.mean(np.abs((y_test2 - y_preds2) / y_test2)) * 100))"
   ]
  },
  {
   "cell_type": "markdown",
   "metadata": {},
   "source": [
    "## Evaluate model on test set."
   ]
  },
  {
   "cell_type": "code",
   "execution_count": 56,
   "metadata": {},
   "outputs": [
    {
     "name": "stdout",
     "output_type": "stream",
     "text": [
      "                            OLS Regression Results                            \n",
      "==============================================================================\n",
      "Dep. Variable:              saleprice   R-squared:                       0.809\n",
      "Model:                            OLS   Adj. R-squared:                  0.805\n",
      "Method:                 Least Squares   F-statistic:                     185.9\n",
      "Date:                Sat, 17 Aug 2019   Prob (F-statistic):           1.00e-76\n",
      "Time:                        16:12:44   Log-Likelihood:                -2688.6\n",
      "No. Observations:                 225   AIC:                             5389.\n",
      "Df Residuals:                     219   BIC:                             5410.\n",
      "Df Model:                           5                                         \n",
      "Covariance Type:            nonrobust                                         \n",
      "===============================================================================\n",
      "                  coef    std err          t      P>|t|      [0.025      0.975]\n",
      "-------------------------------------------------------------------------------\n",
      "const        -1.22e+05   1.21e+04    -10.122      0.000   -1.46e+05   -9.83e+04\n",
      "overallqual  2.027e+04   2704.889      7.493      0.000    1.49e+04    2.56e+04\n",
      "grlivarea      62.0761      6.066     10.234      0.000      50.122      74.030\n",
      "garagecars   1.244e+04   6999.587      1.778      0.077   -1351.667    2.62e+04\n",
      "garagearea     25.7835     24.627      1.047      0.296     -22.752      74.319\n",
      "totalbsmtsf    49.5699      7.263      6.825      0.000      35.256      63.884\n",
      "==============================================================================\n",
      "Omnibus:                       46.374   Durbin-Watson:                   2.040\n",
      "Prob(Omnibus):                  0.000   Jarque-Bera (JB):              154.613\n",
      "Skew:                           0.812   Prob(JB):                     2.67e-34\n",
      "Kurtosis:                       6.722   Cond. No.                     9.94e+03\n",
      "==============================================================================\n",
      "\n",
      "Warnings:\n",
      "[1] Standard Errors assume that the covariance matrix of the errors is correctly specified.\n",
      "[2] The condition number is large, 9.94e+03. This might indicate that there are\n",
      "strong multicollinearity or other numerical problems.\n"
     ]
    }
   ],
   "source": [
    "# Add constant to the model\n",
    "X_test2 = sm.add_constant(X_test2)\n",
    "\n",
    "# We fit an OLS model using statsmodels\n",
    "results = sm.OLS(y_test2, X_test2).fit()\n",
    "\n",
    "# Print the summary results\n",
    "print(results.summary())"
   ]
  },
  {
   "cell_type": "markdown",
   "metadata": {},
   "source": [
    "## The goodness of fit of test model using F-test, R-squared, adjusted R-squared, AIC and BIC.\n",
    "    F-test: 185.9\n",
    "    r2: 0.809\n",
    "    adj r2:  0.805\n",
    "    AIC: 5389.\n",
    "    BIC: 5410."
   ]
  },
  {
   "cell_type": "markdown",
   "metadata": {},
   "source": [
    "## It seems that taking the data from the homes sold in 2009 tightens up the models ability to predict!"
   ]
  },
  {
   "cell_type": "code",
   "execution_count": null,
   "metadata": {},
   "outputs": [],
   "source": []
  }
 ],
 "metadata": {
  "kernelspec": {
   "display_name": "'Python Interactive'",
   "language": "python",
   "name": "ec5171af-50f9-4022-b579-9605273787da"
  },
  "language_info": {
   "codemirror_mode": {
    "name": "ipython",
    "version": 3
   },
   "file_extension": ".py",
   "mimetype": "text/x-python",
   "name": "python",
   "nbconvert_exporter": "python",
   "pygments_lexer": "ipython3",
   "version": "3.7.2"
  }
 },
 "nbformat": 4,
 "nbformat_minor": 2
}
